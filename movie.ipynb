{
 "cells": [
  {
   "cell_type": "code",
   "execution_count": 9,
   "metadata": {},
   "outputs": [],
   "source": [
    "import pandas as pd\n",
    "import numpy as np\n",
    "import requests\n",
    "from bs4 import BeautifulSoup\n",
    "import nltk\n",
    "from nltk.corpus import stopwords\n",
    "from nltk.stem import WordNetLemmatizer\n",
    "import re\n",
    "import gensim.downloader\n",
    "from sklearn.feature_extraction.text import TfidfVectorizer\n",
    "from sklearn.metrics.pairwise import cosine_similarity\n",
    "from tqdm.notebook import tqdm"
   ]
  },
  {
   "cell_type": "code",
   "execution_count": 2,
   "metadata": {},
   "outputs": [],
   "source": [
    "df1 = pd.read_csv('links.csv', usecols=['tmdbId'])\n",
    "df1 = df1.dropna()\n",
    "df1 = df1.convert_dtypes()"
   ]
  },
  {
   "cell_type": "code",
   "execution_count": 3,
   "metadata": {},
   "outputs": [],
   "source": [
    "df1 = df1.assign(title = pd.NA, overview = pd.NA)\n",
    "df1 = df1.assign(overview = pd.NA)"
   ]
  },
  {
   "cell_type": "code",
   "execution_count": null,
   "metadata": {},
   "outputs": [],
   "source": [
    "for index, row in tqdm(df1.iterrows()):\n",
    "\n",
    "    headers = {\n",
    "        \"accept\": \"application/json\",\n",
    "        \"Authorization\": \"INSERT YOUR KEY\"\n",
    "    }\n",
    "\n",
    "    url = \"https://api.themoviedb.org/3/movie/\" + str(row['tmdbId'])\n",
    "\n",
    "    response = requests.get(url, headers = headers)\n",
    "    result = response.json()\n",
    "    try:\n",
    "        df1.loc[index, 'title'] = result['original_title']\n",
    "        df1.loc[index, 'overview'] = result['overview']\n",
    "    except:\n",
    "        continue\n",
    "\n",
    "df1 = df1.dropna()"
   ]
  },
  {
   "cell_type": "code",
   "execution_count": null,
   "metadata": {},
   "outputs": [],
   "source": [
    "stop_words = set(stopwords.words('english'))\n",
    "\n",
    "def clean(text):\n",
    "    # Remove HTML tags and patterns\n",
    "    clean_text = BeautifulSoup(text, \"html.parser\").get_text()\n",
    "\n",
    "    # Convert text to lowercase\n",
    "    clean_text = clean_text.lower()\n",
    "\n",
    "    # Tokenize the text and remove stopwords\n",
    "    words = nltk.word_tokenize(clean_text)\n",
    "    words = [word for word in words if word not in stop_words]\n",
    "\n",
    "    # Lemmatize words\n",
    "    words = [WordNetLemmatizer.lemmatize(word) for word in words]\n",
    "\n",
    "    # Remove punctuation and non-alphanumeric characters\n",
    "    words = [word for word in words if re.match(r'^[a-zA-Z0-9]+$', word)]\n",
    "\n",
    "    # Join the words back into a cleaned text\n",
    "    cleaned_text = ' '.join(words)\n",
    "\n",
    "    return cleaned_text"
   ]
  },
  {
   "cell_type": "code",
   "execution_count": null,
   "metadata": {},
   "outputs": [],
   "source": [
    "df1['clean_overview'] = df1['overview'].apply(clean)"
   ]
  },
  {
   "cell_type": "code",
   "execution_count": null,
   "metadata": {},
   "outputs": [],
   "source": [
    "df1 = df1.drop(['overview'], axis=1)"
   ]
  },
  {
   "cell_type": "code",
   "execution_count": null,
   "metadata": {},
   "outputs": [],
   "source": [
    "df1.to_csv(\"movie_data.csv\", index=False)"
   ]
  },
  {
   "cell_type": "code",
   "execution_count": 11,
   "metadata": {},
   "outputs": [],
   "source": [
    "movie_df  = pd.read_csv(\"movie_data.csv\").dropna()"
   ]
  },
  {
   "cell_type": "code",
   "execution_count": null,
   "metadata": {},
   "outputs": [],
   "source": [
    "corpus = []\n",
    "for desc in tqdm(movie_df['clean_overview']):\n",
    "    corpus.append(desc.split())"
   ]
  },
  {
   "cell_type": "code",
   "execution_count": null,
   "metadata": {},
   "outputs": [],
   "source": [
    "pretrained_model = gensim.downloader.load('word2vec-google-news-300')"
   ]
  },
  {
   "cell_type": "code",
   "execution_count": 14,
   "metadata": {},
   "outputs": [],
   "source": [
    "tfidf = TfidfVectorizer(analyzer='word', ngram_range=(1, 2), min_df = 2, stop_words='english')\n",
    "tfidf_vectors = tfidf.fit_transform(movie_df['clean_overview'])\n",
    "tfidf_feature = tfidf.get_feature_names_out()"
   ]
  },
  {
   "cell_type": "code",
   "execution_count": 15,
   "metadata": {},
   "outputs": [],
   "source": [
    "vectors_df = pd.DataFrame(tfidf_vectors.toarray(), columns = tfidf_feature)"
   ]
  },
  {
   "cell_type": "code",
   "execution_count": null,
   "metadata": {},
   "outputs": [],
   "source": [
    "doc_vectors = []\n",
    "for index, desc in tqdm(enumerate(corpus)):\n",
    "    weighted_word_vector = np.zeros(300)\n",
    "    weighted_sum = 0\n",
    "    for word in desc:\n",
    "        if word in tfidf_feature and word in pretrained_model:\n",
    "            weighted_word_vector += pretrained_model[word] * vectors_df.loc[index, word]\n",
    "            weighted_sum += vectors_df.loc[index, word]\n",
    "        if weighted_sum != 0:\n",
    "            weighted_word_vector /= weighted_sum\n",
    "    doc_vectors.append(weighted_word_vector)"
   ]
  },
  {
   "cell_type": "code",
   "execution_count": null,
   "metadata": {},
   "outputs": [],
   "source": [
    "cosine_similarities = cosine_similarity(doc_vectors, doc_vectors)"
   ]
  },
  {
   "cell_type": "code",
   "execution_count": null,
   "metadata": {},
   "outputs": [],
   "source": [
    "def recommendation(title):\n",
    "    indices = pd.Series(movie_df.index, index = movie_df['title']).drop_duplicates()\n",
    "    idx = indices[title]\n",
    "    sim_scores = list(enumerate(cosine_similarities[idx]))\n",
    "    sim_scores = sorted(sim_scores, key = lambda x: x[1], reverse = True)\n",
    "    sim_scores = sim_scores[1:6]\n",
    "    # print(sim_scores)\n",
    "    book_indices = [i[0] for i in sim_scores]\n",
    "    recommend = movie_df.iloc[book_indices][\"title\"]\n",
    "    return recommend"
   ]
  },
  {
   "cell_type": "code",
   "execution_count": null,
   "metadata": {},
   "outputs": [],
   "source": [
    "recommendation(\"Mission: Impossible\")"
   ]
  }
 ],
 "metadata": {
  "kernelspec": {
   "display_name": "Python 3",
   "language": "python",
   "name": "python3"
  },
  "language_info": {
   "codemirror_mode": {
    "name": "ipython",
    "version": 3
   },
   "file_extension": ".py",
   "mimetype": "text/x-python",
   "name": "python",
   "nbconvert_exporter": "python",
   "pygments_lexer": "ipython3",
   "version": "3.10.13"
  }
 },
 "nbformat": 4,
 "nbformat_minor": 2
}
