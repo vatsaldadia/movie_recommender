{
 "cells": [
  {
   "cell_type": "code",
   "execution_count": 1,
   "metadata": {},
   "outputs": [],
   "source": [
    "import pandas as pd\n",
    "import numpy as np\n",
    "# import ot\n",
    "# import re\n",
    "# import unicodedata\n",
    "# from bs4 import BeautifulSoup\n",
    "# import nltk\n",
    "# from nltk.corpus import stopwords\n",
    "# from nltk.stem import WordNetLemmatizer\n",
    "# from gensim.models import KeyedVectors, Word2Vec\n",
    "import gensim.downloader\n",
    "from sklearn.feature_extraction.text import TfidfVectorizer\n",
    "from sklearn.metrics.pairwise import cosine_similarity\n",
    "from tqdm.notebook import tqdm"
   ]
  },
  {
   "cell_type": "code",
   "execution_count": 2,
   "metadata": {},
   "outputs": [],
   "source": [
    "movie_df  = pd.read_csv(\"movie_data.csv\").dropna()"
   ]
  },
  {
   "cell_type": "code",
   "execution_count": 3,
   "metadata": {},
   "outputs": [
    {
     "data": {
      "text/html": [
       "<div>\n",
       "<style scoped>\n",
       "    .dataframe tbody tr th:only-of-type {\n",
       "        vertical-align: middle;\n",
       "    }\n",
       "\n",
       "    .dataframe tbody tr th {\n",
       "        vertical-align: top;\n",
       "    }\n",
       "\n",
       "    .dataframe thead th {\n",
       "        text-align: right;\n",
       "    }\n",
       "</style>\n",
       "<table border=\"1\" class=\"dataframe\">\n",
       "  <thead>\n",
       "    <tr style=\"text-align: right;\">\n",
       "      <th></th>\n",
       "      <th>tmdbId</th>\n",
       "      <th>title</th>\n",
       "      <th>clean_overview</th>\n",
       "    </tr>\n",
       "  </thead>\n",
       "  <tbody>\n",
       "    <tr>\n",
       "      <th>0</th>\n",
       "      <td>862</td>\n",
       "      <td>Toy Story</td>\n",
       "      <td>led woody andy toys live happily room andy bir...</td>\n",
       "    </tr>\n",
       "    <tr>\n",
       "      <th>1</th>\n",
       "      <td>8844</td>\n",
       "      <td>Jumanji</td>\n",
       "      <td>siblings judy peter discover enchanted board g...</td>\n",
       "    </tr>\n",
       "    <tr>\n",
       "      <th>2</th>\n",
       "      <td>15602</td>\n",
       "      <td>Grumpier Old Men</td>\n",
       "      <td>family wedding reignites ancient feud neighbor...</td>\n",
       "    </tr>\n",
       "    <tr>\n",
       "      <th>3</th>\n",
       "      <td>31357</td>\n",
       "      <td>Waiting to Exhale</td>\n",
       "      <td>cheated mistreated stepped women holding breat...</td>\n",
       "    </tr>\n",
       "    <tr>\n",
       "      <th>4</th>\n",
       "      <td>11862</td>\n",
       "      <td>Father of the Bride Part II</td>\n",
       "      <td>george banks recovered daughter wedding receiv...</td>\n",
       "    </tr>\n",
       "    <tr>\n",
       "      <th>...</th>\n",
       "      <td>...</td>\n",
       "      <td>...</td>\n",
       "      <td>...</td>\n",
       "    </tr>\n",
       "    <tr>\n",
       "      <th>9622</th>\n",
       "      <td>432131</td>\n",
       "      <td>黒執事 Book of the Atlantic</td>\n",
       "      <td>ciel learns aurora society rumored researching...</td>\n",
       "    </tr>\n",
       "    <tr>\n",
       "      <th>9623</th>\n",
       "      <td>445030</td>\n",
       "      <td>ノーゲーム・ノーライフ ゼロ</td>\n",
       "      <td>ancient disboard riku angry young warrior inte...</td>\n",
       "    </tr>\n",
       "    <tr>\n",
       "      <th>9624</th>\n",
       "      <td>479308</td>\n",
       "      <td>Flint</td>\n",
       "      <td>woman deals toxic water scandal flint michigan...</td>\n",
       "    </tr>\n",
       "    <tr>\n",
       "      <th>9625</th>\n",
       "      <td>483455</td>\n",
       "      <td>文豪ストレイドッグス DEAD APPLE</td>\n",
       "      <td>large scale catastrophe occurring across plane...</td>\n",
       "    </tr>\n",
       "    <tr>\n",
       "      <th>9626</th>\n",
       "      <td>37891</td>\n",
       "      <td>Andrew Dice Clay: Dice Rules</td>\n",
       "      <td>outrageous misogynistic comedian andrew dice c...</td>\n",
       "    </tr>\n",
       "  </tbody>\n",
       "</table>\n",
       "<p>9618 rows × 3 columns</p>\n",
       "</div>"
      ],
      "text/plain": [
       "      tmdbId                         title  \\\n",
       "0        862                     Toy Story   \n",
       "1       8844                       Jumanji   \n",
       "2      15602              Grumpier Old Men   \n",
       "3      31357             Waiting to Exhale   \n",
       "4      11862   Father of the Bride Part II   \n",
       "...      ...                           ...   \n",
       "9622  432131      黒執事 Book of the Atlantic   \n",
       "9623  445030                ノーゲーム・ノーライフ ゼロ   \n",
       "9624  479308                         Flint   \n",
       "9625  483455         文豪ストレイドッグス DEAD APPLE   \n",
       "9626   37891  Andrew Dice Clay: Dice Rules   \n",
       "\n",
       "                                         clean_overview  \n",
       "0     led woody andy toys live happily room andy bir...  \n",
       "1     siblings judy peter discover enchanted board g...  \n",
       "2     family wedding reignites ancient feud neighbor...  \n",
       "3     cheated mistreated stepped women holding breat...  \n",
       "4     george banks recovered daughter wedding receiv...  \n",
       "...                                                 ...  \n",
       "9622  ciel learns aurora society rumored researching...  \n",
       "9623  ancient disboard riku angry young warrior inte...  \n",
       "9624  woman deals toxic water scandal flint michigan...  \n",
       "9625  large scale catastrophe occurring across plane...  \n",
       "9626  outrageous misogynistic comedian andrew dice c...  \n",
       "\n",
       "[9618 rows x 3 columns]"
      ]
     },
     "execution_count": 3,
     "metadata": {},
     "output_type": "execute_result"
    }
   ],
   "source": [
    "movie_df"
   ]
  },
  {
   "cell_type": "code",
   "execution_count": 4,
   "metadata": {},
   "outputs": [
    {
     "data": {
      "application/vnd.jupyter.widget-view+json": {
       "model_id": "e79d3ab1b0644c6ca1f6e167c458ff09",
       "version_major": 2,
       "version_minor": 0
      },
      "text/plain": [
       "  0%|          | 0/9618 [00:00<?, ?it/s]"
      ]
     },
     "metadata": {},
     "output_type": "display_data"
    }
   ],
   "source": [
    "corpus = []\n",
    "for desc in tqdm(movie_df['clean_overview']):\n",
    "    corpus.append(desc.split())"
   ]
  },
  {
   "cell_type": "code",
   "execution_count": 5,
   "metadata": {},
   "outputs": [],
   "source": [
    "# pretrained_model = KeyedVectors.load('initial_model')\n",
    "pretrained_model = gensim.downloader.load('word2vec-google-news-300')"
   ]
  },
  {
   "cell_type": "code",
   "execution_count": 6,
   "metadata": {},
   "outputs": [],
   "source": [
    "tfidf = TfidfVectorizer(analyzer='word', ngram_range=(1, 2), min_df = 2, stop_words='english')\n",
    "tfidf_vectors = tfidf.fit_transform(movie_df['clean_overview'])\n",
    "tfidf_feature = tfidf.get_feature_names_out()"
   ]
  },
  {
   "cell_type": "code",
   "execution_count": 7,
   "metadata": {},
   "outputs": [],
   "source": [
    "vectors_df = pd.DataFrame(tfidf_vectors.toarray(), columns = tfidf_feature)"
   ]
  },
  {
   "cell_type": "code",
   "execution_count": 8,
   "metadata": {},
   "outputs": [
    {
     "data": {
      "application/vnd.jupyter.widget-view+json": {
       "model_id": "8f6294138edf479394bb1ba52f676563",
       "version_major": 2,
       "version_minor": 0
      },
      "text/plain": [
       "0it [00:00, ?it/s]"
      ]
     },
     "metadata": {},
     "output_type": "display_data"
    }
   ],
   "source": [
    "doc_vectors = []\n",
    "for index, desc in tqdm(enumerate(corpus)):\n",
    "    weighted_word_vector = np.zeros(300)\n",
    "    weighted_sum = 0\n",
    "    for word in desc:\n",
    "        if word in tfidf_feature and word in pretrained_model:\n",
    "            weighted_word_vector += pretrained_model[word] * vectors_df.loc[index, word]\n",
    "            weighted_sum += vectors_df.loc[index, word]\n",
    "        if weighted_sum != 0:\n",
    "            weighted_word_vector /= weighted_sum\n",
    "    doc_vectors.append(weighted_word_vector)"
   ]
  },
  {
   "cell_type": "code",
   "execution_count": 9,
   "metadata": {},
   "outputs": [],
   "source": [
    "cosine_similarities = cosine_similarity(doc_vectors, doc_vectors)"
   ]
  },
  {
   "cell_type": "code",
   "execution_count": 10,
   "metadata": {},
   "outputs": [],
   "source": [
    "cosine_similarities_ = cosine_similarity(vectors_df, vectors_df)"
   ]
  },
  {
   "cell_type": "code",
   "execution_count": 11,
   "metadata": {},
   "outputs": [],
   "source": [
    "def recommendation(title):\n",
    "    indices = pd.Series(movie_df.index, index = movie_df['title']).drop_duplicates()\n",
    "    idx = indices[title]\n",
    "    sim_scores = list(enumerate(cosine_similarities[idx]))\n",
    "    sim_scores = sorted(sim_scores, key = lambda x: x[1], reverse = True)\n",
    "    sim_scores = sim_scores[1:6]\n",
    "    print(sim_scores)\n",
    "    book_indices = [i[0] for i in sim_scores]\n",
    "    recommend = movie_df.iloc[book_indices][\"title\"]\n",
    "    print(recommend)"
   ]
  },
  {
   "cell_type": "code",
   "execution_count": 12,
   "metadata": {},
   "outputs": [
    {
     "name": "stdout",
     "output_type": "stream",
     "text": [
      "[(7778, 0.9987755673810671), (7265, 0.994846548056306), (4086, 0.9850812766645703), (7762, 0.9835303305505907), (2292, 0.969345692097803)]\n",
      "7782                     Goon\n",
      "7267               The Losers\n",
      "4087                    Thief\n",
      "7766    A Very Potter Musical\n",
      "2293             Meatballs IV\n",
      "Name: title, dtype: object\n"
     ]
    }
   ],
   "source": [
    "recommendation(\"Mission: Impossible\")"
   ]
  }
 ],
 "metadata": {
  "kernelspec": {
   "display_name": "Python 3",
   "language": "python",
   "name": "python3"
  },
  "language_info": {
   "codemirror_mode": {
    "name": "ipython",
    "version": 3
   },
   "file_extension": ".py",
   "mimetype": "text/x-python",
   "name": "python",
   "nbconvert_exporter": "python",
   "pygments_lexer": "ipython3",
   "version": "3.10.13"
  },
  "orig_nbformat": 4
 },
 "nbformat": 4,
 "nbformat_minor": 2
}
